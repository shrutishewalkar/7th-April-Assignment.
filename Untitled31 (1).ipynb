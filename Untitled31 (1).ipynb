{
 "cells": [
  {
   "cell_type": "markdown",
   "id": "a0946398-d3fc-40e1-a650-be9ea4622b42",
   "metadata": {},
   "source": [
    "Q1 What is the relationship between polynomial functions and kernel functions in machine learning algorithms?"
   ]
  },
  {
   "cell_type": "markdown",
   "id": "e184998d-8dd3-4492-955a-ca6b4327894f",
   "metadata": {},
   "source": [
    "Ans: Polynomial functions and kernel functions are both used in machine learning algorithms, particularly in supervised learning tasks such as regression and classification.\n",
    "\n",
    "The relationship between polynomial functions and kernel functions is that certain types of kernel functions, such as the polynomial kernel, are based on polynomial functions. The polynomial kernel is a kernel function that computes the inner product of two vectors in a higher-dimensional space defined by a polynomial function. The degree of the polynomial function is a parameter that can be adjusted to control the complexity of the decision boundary."
   ]
  },
  {
   "cell_type": "markdown",
   "id": "e5c33b6e-5541-4c26-8d24-41b6e1930048",
   "metadata": {},
   "source": [
    "Q2 How can we implement an SVM with a polynomial kernel in Python using Scikit-learn?"
   ]
  },
  {
   "cell_type": "code",
   "execution_count": 13,
   "id": "82f74952-7be9-4971-b209-0fc6dded7f62",
   "metadata": {},
   "outputs": [],
   "source": [
    "from sklearn import datasets\n",
    "from sklearn.model_selection import train_test_split\n",
    "from sklearn.svm import SVC\n",
    "from sklearn.metrics import accuracy_score"
   ]
  },
  {
   "cell_type": "code",
   "execution_count": 14,
   "id": "170c2cd7-d234-43b3-be93-6cd23c056450",
   "metadata": {},
   "outputs": [
    {
     "name": "stdout",
     "output_type": "stream",
     "text": [
      "Accuracy: 0.9\n"
     ]
    }
   ],
   "source": [
    "iris = datasets.load_iris()\n",
    "X = iris.data\n",
    "y = iris.target\n",
    "\n",
    "X_train, X_test, y_train, y_test = train_test_split(X, y, test_size=0.2)\n",
    "svm_poly = SVC(kernel='poly', degree=3, C=1000)\n",
    "\n",
    "svm_poly.fit(X_train, y_train)\n",
    "\n",
    "y_pred = svm_poly.predict(X_test)\n",
    "\n",
    "accuracy = accuracy_score(y_test, y_pred)\n",
    "print(\"Accuracy:\", accuracy)"
   ]
  },
  {
   "cell_type": "markdown",
   "id": "482c6025-4ae7-42c8-b700-48b862b76e36",
   "metadata": {},
   "source": [
    "Q3 How does increasing the value of epsilon affect the number of support vectors in SVR?"
   ]
  },
  {
   "cell_type": "markdown",
   "id": "fd7bb438-4183-433a-8be7-63a657f37054",
   "metadata": {},
   "source": [
    "Ans: In Support Vector Regression (SVR), epsilon is a hyperparameter that controls the width of the margin and the tolerance for errors in the training set. Specifically, epsilon determines the maximum distance between the predicted and actual output values of the training samples that are considered as errors.\n",
    "\n",
    "Increasing the value of epsilon in SVR will typically result in an increase in the number of support vectors. This is because a larger value of epsilon allows more training samples to be within the margin, and hence more support vectors will be required to define the boundary."
   ]
  },
  {
   "cell_type": "markdown",
   "id": "795c1ef3-7de8-442e-a318-51b5bf391c4c",
   "metadata": {},
   "source": [
    "Q4 How does the choice of kernel function, C parameter, epsilon parameter, and gamma parameter affect the performance of Support Vector Regression (SVR)? Can you explain how each parameter works and provide examples of when you might want to increase or decrease its value?"
   ]
  },
  {
   "cell_type": "markdown",
   "id": "0e7c8a28-109a-46ab-ae27-907e8eb8bcec",
   "metadata": {},
   "source": [
    "Here's a brief explanation of each parameter and how it affects the performance of SVR:"
   ]
  },
  {
   "cell_type": "markdown",
   "id": "56755134-5f72-469e-9a41-41ab853a1400",
   "metadata": {},
   "source": [
    "Kernel Function: The kernel function determines the type of non-linear mapping that is used to transform the input features into a higher-dimensional space where a linear decision boundary can be found. Common kernel functions include linear, polynomial, and radial basis function (RBF) kernels. The choice of kernel function can significantly affect the performance of SVR depending on the nature of the data.\n",
    "For example, the RBF kernel is generally more effective for datasets with complex non-linear patterns, while the linear kernel is suitable for simpler datasets.\n",
    "\n",
    "C Parameter: The C parameter controls the trade-off between achieving a low training error and a low testing error. It determines the amount of regularization that is applied to the SVM model. A smaller value of C will lead to a larger margin and more errors allowed in the training data, while a larger value of C will result in a smaller margin and fewer errors allowed in the training data. Increasing C may improve the performance of SVR when the training data is noisy or there are many outliers, but it may also lead to overfitting if the value is too large.\n",
    "\n",
    "Epsilon Parameter: The epsilon parameter determines the width of the margin around the regression line. It specifies the maximum distance between the predicted and actual output values of the training samples that are considered as errors. Increasing the value of epsilon will allow more training samples to be within the margin, which can increase the number of support vectors required to define the boundary. A larger value of epsilon can also increase the robustness of the model to noise or outliers."
   ]
  },
  {
   "cell_type": "markdown",
   "id": "2bb6e60d-6735-4126-ba15-24820abc3fb9",
   "metadata": {},
   "source": [
    "Gamma Parameter: The gamma parameter controls the width of the RBF kernel. It determines the influence of each training sample on the decision boundary. A small value of gamma will result in a wider kernel and a smoother decision boundary, while a large value of gamma will lead to a narrower kernel and a more complex decision boundary that may overfit the data. Increasing the value of gamma may improve the performance of SVR for datasets with complex non-linear patterns, but it may also lead to overfitting if the value is too large."
   ]
  },
  {
   "cell_type": "markdown",
   "id": "11ca196d-f055-40d7-9cb7-c0ce9cd77059",
   "metadata": {},
   "source": [
    "Q5 Import the necessary libraries and load the dataset.\n",
    "\n",
    "Split the dataset into training and testing sets.\n",
    "\n",
    "Preprocess the data using any technique of your choice (e.g. scaling, normalization).\n",
    "\n",
    "Create an instance of the SVC classifier and train it on the training data.\n",
    "\n",
    "Use the trained classifier to predict the labels of the testing data.\n",
    "\n",
    "Evaluate the performance of the classifier using any metric of your choice (e.g. accuracy, precision, recall, F1-score).\n",
    "\n",
    "Tune the hyperparameters of the SVC classifier using GridSearchCV or RandomizedGridSearchCV to improve its performance.\n",
    "\n",
    "Train the tuned classifier on the entire dataset.\n",
    "\n",
    "Save the trained classifier to a file for future use."
   ]
  },
  {
   "cell_type": "code",
   "execution_count": 15,
   "id": "180b102a-2ab1-48c7-b702-adedb8635ed0",
   "metadata": {},
   "outputs": [],
   "source": [
    "import pandas as pd\n",
    "from sklearn.model_selection import train_test_split\n",
    "from sklearn.preprocessing import StandardScaler\n",
    "from sklearn.svm import SVC\n",
    "from sklearn.metrics import accuracy_score\n",
    "from sklearn.model_selection import GridSearchCV\n",
    "import joblib\n",
    "df = pd.read_csv('WineQT.csv')"
   ]
  },
  {
   "cell_type": "code",
   "execution_count": 16,
   "id": "758163d2-1c3b-4add-a166-df471cd63942",
   "metadata": {},
   "outputs": [
    {
     "name": "stdout",
     "output_type": "stream",
     "text": [
      "Accuracy: 0.66\n",
      "\n",
      "Fitting 5 folds for each of 18 candidates, totalling 90 fits\n",
      "[CV 1/5] END ...C=0.1, gamma=0.1, kernel=linear;, score=0.563 total time=   0.0s\n",
      "[CV 2/5] END ...C=0.1, gamma=0.1, kernel=linear;, score=0.574 total time=   0.0s\n",
      "[CV 3/5] END ...C=0.1, gamma=0.1, kernel=linear;, score=0.574 total time=   0.0s\n",
      "[CV 4/5] END ...C=0.1, gamma=0.1, kernel=linear;, score=0.574 total time=   0.0s\n",
      "[CV 5/5] END ...C=0.1, gamma=0.1, kernel=linear;, score=0.560 total time=   0.0s\n",
      "[CV 1/5] END ......C=0.1, gamma=0.1, kernel=rbf;, score=0.579 total time=   0.0s\n",
      "[CV 2/5] END ......C=0.1, gamma=0.1, kernel=rbf;, score=0.596 total time=   0.0s\n",
      "[CV 3/5] END ......C=0.1, gamma=0.1, kernel=rbf;, score=0.585 total time=   0.0s\n",
      "[CV 4/5] END ......C=0.1, gamma=0.1, kernel=rbf;, score=0.546 total time=   0.0s\n",
      "[CV 5/5] END ......C=0.1, gamma=0.1, kernel=rbf;, score=0.599 total time=   0.0s\n",
      "[CV 1/5] END .....C=0.1, gamma=1, kernel=linear;, score=0.563 total time=   0.0s\n",
      "[CV 2/5] END .....C=0.1, gamma=1, kernel=linear;, score=0.574 total time=   0.0s\n",
      "[CV 3/5] END .....C=0.1, gamma=1, kernel=linear;, score=0.574 total time=   0.0s\n",
      "[CV 4/5] END .....C=0.1, gamma=1, kernel=linear;, score=0.574 total time=   0.0s\n",
      "[CV 5/5] END .....C=0.1, gamma=1, kernel=linear;, score=0.560 total time=   0.0s\n",
      "[CV 1/5] END ........C=0.1, gamma=1, kernel=rbf;, score=0.426 total time=   0.1s\n",
      "[CV 2/5] END ........C=0.1, gamma=1, kernel=rbf;, score=0.426 total time=   0.1s\n",
      "[CV 3/5] END ........C=0.1, gamma=1, kernel=rbf;, score=0.421 total time=   0.1s\n",
      "[CV 4/5] END ........C=0.1, gamma=1, kernel=rbf;, score=0.421 total time=   0.1s\n",
      "[CV 5/5] END ........C=0.1, gamma=1, kernel=rbf;, score=0.423 total time=   0.1s\n",
      "[CV 1/5] END ....C=0.1, gamma=10, kernel=linear;, score=0.563 total time=   0.0s\n",
      "[CV 2/5] END ....C=0.1, gamma=10, kernel=linear;, score=0.574 total time=   0.0s\n",
      "[CV 3/5] END ....C=0.1, gamma=10, kernel=linear;, score=0.574 total time=   0.0s\n",
      "[CV 4/5] END ....C=0.1, gamma=10, kernel=linear;, score=0.574 total time=   0.0s\n",
      "[CV 5/5] END ....C=0.1, gamma=10, kernel=linear;, score=0.560 total time=   0.0s\n",
      "[CV 1/5] END .......C=0.1, gamma=10, kernel=rbf;, score=0.426 total time=   0.1s\n",
      "[CV 2/5] END .......C=0.1, gamma=10, kernel=rbf;, score=0.426 total time=   0.1s\n",
      "[CV 3/5] END .......C=0.1, gamma=10, kernel=rbf;, score=0.421 total time=   0.1s\n",
      "[CV 4/5] END .......C=0.1, gamma=10, kernel=rbf;, score=0.421 total time=   0.1s\n",
      "[CV 5/5] END .......C=0.1, gamma=10, kernel=rbf;, score=0.423 total time=   0.1s\n",
      "[CV 1/5] END .....C=1, gamma=0.1, kernel=linear;, score=0.585 total time=   0.0s\n",
      "[CV 2/5] END .....C=1, gamma=0.1, kernel=linear;, score=0.574 total time=   0.0s\n",
      "[CV 3/5] END .....C=1, gamma=0.1, kernel=linear;, score=0.585 total time=   0.0s\n",
      "[CV 4/5] END .....C=1, gamma=0.1, kernel=linear;, score=0.579 total time=   0.0s\n",
      "[CV 5/5] END .....C=1, gamma=0.1, kernel=linear;, score=0.549 total time=   0.0s\n",
      "[CV 1/5] END ........C=1, gamma=0.1, kernel=rbf;, score=0.650 total time=   0.0s\n",
      "[CV 2/5] END ........C=1, gamma=0.1, kernel=rbf;, score=0.590 total time=   0.0s\n",
      "[CV 3/5] END ........C=1, gamma=0.1, kernel=rbf;, score=0.656 total time=   0.0s\n",
      "[CV 4/5] END ........C=1, gamma=0.1, kernel=rbf;, score=0.634 total time=   0.1s\n",
      "[CV 5/5] END ........C=1, gamma=0.1, kernel=rbf;, score=0.571 total time=   0.0s\n",
      "[CV 1/5] END .......C=1, gamma=1, kernel=linear;, score=0.585 total time=   0.0s\n",
      "[CV 2/5] END .......C=1, gamma=1, kernel=linear;, score=0.574 total time=   0.0s\n",
      "[CV 3/5] END .......C=1, gamma=1, kernel=linear;, score=0.585 total time=   0.0s\n",
      "[CV 4/5] END .......C=1, gamma=1, kernel=linear;, score=0.579 total time=   0.0s\n",
      "[CV 5/5] END .......C=1, gamma=1, kernel=linear;, score=0.549 total time=   0.0s\n",
      "[CV 1/5] END ..........C=1, gamma=1, kernel=rbf;, score=0.552 total time=   0.1s\n",
      "[CV 2/5] END ..........C=1, gamma=1, kernel=rbf;, score=0.590 total time=   0.1s\n",
      "[CV 3/5] END ..........C=1, gamma=1, kernel=rbf;, score=0.634 total time=   0.1s\n",
      "[CV 4/5] END ..........C=1, gamma=1, kernel=rbf;, score=0.628 total time=   0.1s\n",
      "[CV 5/5] END ..........C=1, gamma=1, kernel=rbf;, score=0.560 total time=   0.1s\n",
      "[CV 1/5] END ......C=1, gamma=10, kernel=linear;, score=0.585 total time=   0.0s\n",
      "[CV 2/5] END ......C=1, gamma=10, kernel=linear;, score=0.574 total time=   0.0s\n",
      "[CV 3/5] END ......C=1, gamma=10, kernel=linear;, score=0.585 total time=   0.0s\n",
      "[CV 4/5] END ......C=1, gamma=10, kernel=linear;, score=0.579 total time=   0.0s\n",
      "[CV 5/5] END ......C=1, gamma=10, kernel=linear;, score=0.549 total time=   0.0s\n",
      "[CV 1/5] END .........C=1, gamma=10, kernel=rbf;, score=0.514 total time=   0.1s\n",
      "[CV 2/5] END .........C=1, gamma=10, kernel=rbf;, score=0.546 total time=   0.1s\n",
      "[CV 3/5] END .........C=1, gamma=10, kernel=rbf;, score=0.508 total time=   0.1s\n",
      "[CV 4/5] END .........C=1, gamma=10, kernel=rbf;, score=0.536 total time=   0.1s\n",
      "[CV 5/5] END .........C=1, gamma=10, kernel=rbf;, score=0.467 total time=   0.1s\n",
      "[CV 1/5] END ....C=10, gamma=0.1, kernel=linear;, score=0.568 total time=   0.1s\n",
      "[CV 2/5] END ....C=10, gamma=0.1, kernel=linear;, score=0.585 total time=   0.1s\n",
      "[CV 3/5] END ....C=10, gamma=0.1, kernel=linear;, score=0.590 total time=   0.2s\n",
      "[CV 4/5] END ....C=10, gamma=0.1, kernel=linear;, score=0.579 total time=   0.2s\n",
      "[CV 5/5] END ....C=10, gamma=0.1, kernel=linear;, score=0.538 total time=   0.2s\n",
      "[CV 1/5] END .......C=10, gamma=0.1, kernel=rbf;, score=0.634 total time=   0.1s\n",
      "[CV 2/5] END .......C=10, gamma=0.1, kernel=rbf;, score=0.596 total time=   0.1s\n",
      "[CV 3/5] END .......C=10, gamma=0.1, kernel=rbf;, score=0.585 total time=   0.1s\n",
      "[CV 4/5] END .......C=10, gamma=0.1, kernel=rbf;, score=0.650 total time=   0.1s\n",
      "[CV 5/5] END .......C=10, gamma=0.1, kernel=rbf;, score=0.533 total time=   0.1s\n",
      "[CV 1/5] END ......C=10, gamma=1, kernel=linear;, score=0.568 total time=   0.1s\n",
      "[CV 2/5] END ......C=10, gamma=1, kernel=linear;, score=0.585 total time=   0.1s\n",
      "[CV 3/5] END ......C=10, gamma=1, kernel=linear;, score=0.590 total time=   0.2s\n",
      "[CV 4/5] END ......C=10, gamma=1, kernel=linear;, score=0.579 total time=   0.1s\n",
      "[CV 5/5] END ......C=10, gamma=1, kernel=linear;, score=0.538 total time=   0.2s\n",
      "[CV 1/5] END .........C=10, gamma=1, kernel=rbf;, score=0.585 total time=   0.1s\n",
      "[CV 2/5] END .........C=10, gamma=1, kernel=rbf;, score=0.590 total time=   0.1s\n",
      "[CV 3/5] END .........C=10, gamma=1, kernel=rbf;, score=0.650 total time=   0.1s\n",
      "[CV 4/5] END .........C=10, gamma=1, kernel=rbf;, score=0.623 total time=   0.1s\n",
      "[CV 5/5] END .........C=10, gamma=1, kernel=rbf;, score=0.527 total time=   0.1s\n",
      "[CV 1/5] END .....C=10, gamma=10, kernel=linear;, score=0.568 total time=   0.1s\n",
      "[CV 2/5] END .....C=10, gamma=10, kernel=linear;, score=0.585 total time=   0.2s\n",
      "[CV 3/5] END .....C=10, gamma=10, kernel=linear;, score=0.590 total time=   0.2s\n",
      "[CV 4/5] END .....C=10, gamma=10, kernel=linear;, score=0.579 total time=   0.1s\n",
      "[CV 5/5] END .....C=10, gamma=10, kernel=linear;, score=0.538 total time=   0.2s\n",
      "[CV 1/5] END ........C=10, gamma=10, kernel=rbf;, score=0.519 total time=   0.1s\n",
      "[CV 2/5] END ........C=10, gamma=10, kernel=rbf;, score=0.546 total time=   0.1s\n",
      "[CV 3/5] END ........C=10, gamma=10, kernel=rbf;, score=0.508 total time=   0.1s\n",
      "[CV 4/5] END ........C=10, gamma=10, kernel=rbf;, score=0.546 total time=   0.1s\n",
      "[CV 5/5] END ........C=10, gamma=10, kernel=rbf;, score=0.462 total time=   0.1s\n"
     ]
    },
    {
     "data": {
      "text/plain": [
       "['svc_model.joblib']"
      ]
     },
     "execution_count": 16,
     "metadata": {},
     "output_type": "execute_result"
    }
   ],
   "source": [
    "# 2. Split the dataset into training and testing sets\n",
    "X = df.drop('quality', axis=1)\n",
    "y = df['quality']\n",
    "X_train, X_test, y_train, y_test = train_test_split(X, y, test_size=0.2, random_state=42)\n",
    "\n",
    "# 3. Preprocess the data using StandardScaler\n",
    "scaler = StandardScaler()\n",
    "X_train_scaled = scaler.fit_transform(X_train)\n",
    "X_test_scaled = scaler.transform(X_test)\n",
    "\n",
    "# 4. Create an instance of the SVC classifier and train it on the training data\n",
    "svc = SVC()\n",
    "svc.fit(X_train_scaled, y_train)\n",
    "\n",
    "# 5. Use the trained classifier to predict the labels of the testing data\n",
    "y_pred = svc.predict(X_test_scaled)\n",
    "\n",
    "# 6. Evaluate the performance of the classifier using accuracy\n",
    "accuracy = accuracy_score(y_test, y_pred)\n",
    "print(f\"Accuracy: {accuracy:.2f}\")\n",
    "print(\"\")\n",
    "\n",
    "# 7. Tune the hyperparameters of the SVC classifier using GridSearchCV\n",
    "param_grid = {'C': [0.1, 1, 10], 'gamma': [0.1, 1, 10], 'kernel': ['linear', 'rbf']}\n",
    "grid = GridSearchCV(SVC(), param_grid, refit=True, verbose=3)\n",
    "grid.fit(X_train_scaled, y_train)\n",
    "\n",
    "# 8. Train the tuned classifier on the entire dataset\n",
    "best_svc = grid.best_estimator_\n",
    "X_scaled = scaler.fit_transform(X)\n",
    "best_svc.fit(X_scaled, y)\n",
    "\n",
    "# 9. Save the trained classifier to a file for future use\n",
    "joblib.dump(best_svc, 'svc_model.joblib')"
   ]
  },
  {
   "cell_type": "code",
   "execution_count": null,
   "id": "3752d1ca-3ebb-479e-b00a-08e40c906099",
   "metadata": {},
   "outputs": [],
   "source": []
  },
  {
   "cell_type": "code",
   "execution_count": null,
   "id": "1c4c14ed-4263-43f3-ba0f-2e00e270953d",
   "metadata": {},
   "outputs": [],
   "source": []
  }
 ],
 "metadata": {
  "kernelspec": {
   "display_name": "Python 3 (ipykernel)",
   "language": "python",
   "name": "python3"
  },
  "language_info": {
   "codemirror_mode": {
    "name": "ipython",
    "version": 3
   },
   "file_extension": ".py",
   "mimetype": "text/x-python",
   "name": "python",
   "nbconvert_exporter": "python",
   "pygments_lexer": "ipython3",
   "version": "3.10.8"
  }
 },
 "nbformat": 4,
 "nbformat_minor": 5
}
